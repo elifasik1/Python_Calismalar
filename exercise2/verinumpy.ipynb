{
 "cells": [
  {
   "cell_type": "code",
   "execution_count": 6,
   "id": "ba4cd2ad",
   "metadata": {},
   "outputs": [],
   "source": [
    " #Numpy\n",
    " import numpy as np"
   ]
  },
  {
   "cell_type": "code",
   "execution_count": 9,
   "id": "680b203b",
   "metadata": {},
   "outputs": [
    {
     "data": {
      "text/plain": [
       "array([ 2,  6, 12, 20])"
      ]
     },
     "execution_count": 9,
     "metadata": {},
     "output_type": "execute_result"
    }
   ],
   "source": [
    "a = [1,2,3,4]\n",
    "b = [2,3,4,5]\n",
    "ab = []\n",
    "for i in range(0,len(a)):\n",
    "   ab.append(a[i]*b[i])\n",
    "a = np.array([1,2,3,4])\n",
    "b = np.array([2,3,4,5])\n",
    "a*b \n"
   ]
  },
  {
   "cell_type": "code",
   "execution_count": 16,
   "id": "64da8b33",
   "metadata": {},
   "outputs": [
    {
     "data": {
      "text/plain": [
       "array([[ 6.62345487,  9.81648827,  5.75110892,  8.54075706],\n",
       "       [ 8.23678564,  6.09262643, 13.00893825,  8.01619049],\n",
       "       [10.00361579,  4.472659  , 10.83389447, 15.78974083]])"
      ]
     },
     "execution_count": 16,
     "metadata": {},
     "output_type": "execute_result"
    }
   ],
   "source": [
    "np.array([1,2,3,4,5,6])\n",
    "np.zeros(10, dtype=int)\n",
    "np.random.randint(0,10,size=10)\n",
    "np.random.normal(10,4,(3,4))\n"
   ]
  },
  {
   "cell_type": "code",
   "execution_count": 21,
   "id": "89b55b98",
   "metadata": {},
   "outputs": [
    {
     "data": {
      "text/plain": [
       "dtype('int32')"
      ]
     },
     "execution_count": 21,
     "metadata": {},
     "output_type": "execute_result"
    }
   ],
   "source": [
    "#ndim : boyut yapısı\n",
    "#shape: boyut bilgisi\n",
    "#size: toplam eleman sayısı\n",
    "#dtype : array veri tipi\n",
    "a = np.random.randint(10,size=5)\n",
    "a.ndim\n",
    "a.size\n",
    "a.dtype\n"
   ]
  },
  {
   "cell_type": "code",
   "execution_count": 25,
   "id": "b7cdb5da",
   "metadata": {},
   "outputs": [
    {
     "data": {
      "text/plain": [
       "array([[8, 2, 3],\n",
       "       [4, 3, 9],\n",
       "       [6, 2, 6]], dtype=int32)"
      ]
     },
     "execution_count": 25,
     "metadata": {},
     "output_type": "execute_result"
    }
   ],
   "source": [
    "np.random.randint(1,10,size=9)\n",
    "np.random.randint(1,10,size=9).reshape(3,3)\n",
    "\n",
    "ar = np.random.randint(1,10,size=9)\n",
    "ar.reshape(3,3)\n",
    "\n"
   ]
  },
  {
   "cell_type": "code",
   "execution_count": 32,
   "id": "f2c8ecd9",
   "metadata": {},
   "outputs": [
    {
     "data": {
      "text/plain": [
       "array([0, 2, 9], dtype=int32)"
      ]
     },
     "execution_count": 32,
     "metadata": {},
     "output_type": "execute_result"
    }
   ],
   "source": [
    "a = np.random.randint(10,size=10)\n",
    "a[0]\n",
    "a[0:5]\n",
    "m=np.random.randint(10,size=(3,5))\n",
    "m[0,0]\n",
    "m[1,1]\n",
    "m[:,0]\n",
    "\n"
   ]
  },
  {
   "cell_type": "code",
   "execution_count": 37,
   "id": "4375b8ab",
   "metadata": {},
   "outputs": [
    {
     "data": {
      "text/plain": [
       "array([3, 6, 9])"
      ]
     },
     "execution_count": 37,
     "metadata": {},
     "output_type": "execute_result"
    }
   ],
   "source": [
    "#fancy index\n",
    "v = np.arange(0,30,3)\n",
    "v[1]\n",
    "v[4]\n",
    "catch = [1,2,3]\n",
    "v[catch]"
   ]
  },
  {
   "cell_type": "code",
   "execution_count": null,
   "id": "060f2afd",
   "metadata": {},
   "outputs": [],
   "source": []
  }
 ],
 "metadata": {
  "kernelspec": {
   "display_name": "yeni_ortam",
   "language": "python",
   "name": "python3"
  },
  "language_info": {
   "codemirror_mode": {
    "name": "ipython",
    "version": 3
   },
   "file_extension": ".py",
   "mimetype": "text/x-python",
   "name": "python",
   "nbconvert_exporter": "python",
   "pygments_lexer": "ipython3",
   "version": "3.12.9"
  }
 },
 "nbformat": 4,
 "nbformat_minor": 5
}
