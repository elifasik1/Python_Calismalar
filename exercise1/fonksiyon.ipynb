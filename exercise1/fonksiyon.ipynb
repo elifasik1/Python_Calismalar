{
 "cells": [
  {
   "cell_type": "code",
   "execution_count": 5,
   "id": "2401b279",
   "metadata": {},
   "outputs": [
    {
     "name": "stdout",
     "output_type": "stream",
     "text": [
      "a b\n",
      "a__b\n"
     ]
    }
   ],
   "source": [
    "print(\"a\",\"b\")\n",
    "print(\"a\",\"b\", sep =\"__\")\n"
   ]
  },
  {
   "cell_type": "code",
   "execution_count": 8,
   "id": "8bfdf490",
   "metadata": {},
   "outputs": [
    {
     "name": "stdout",
     "output_type": "stream",
     "text": [
      "8\n"
     ]
    }
   ],
   "source": [
    "def calculate(x):\n",
    "    print(x*2)\n",
    "\n",
    "calculate(4)"
   ]
  },
  {
   "cell_type": "code",
   "execution_count": null,
   "id": "3b0bc537",
   "metadata": {},
   "outputs": [
    {
     "name": "stdout",
     "output_type": "stream",
     "text": [
      "33\n"
     ]
    }
   ],
   "source": [
    "def toplama(arg1,arg2):\n",
    "    print(arg1+arg2)\n",
    "\n",
    "toplama(10,23)\n",
    "    "
   ]
  }
 ],
 "metadata": {
  "kernelspec": {
   "display_name": "yeni_ortam",
   "language": "python",
   "name": "python3"
  },
  "language_info": {
   "codemirror_mode": {
    "name": "ipython",
    "version": 3
   },
   "file_extension": ".py",
   "mimetype": "text/x-python",
   "name": "python",
   "nbconvert_exporter": "python",
   "pygments_lexer": "ipython3",
   "version": "3.12.9"
  }
 },
 "nbformat": 4,
 "nbformat_minor": 5
}
