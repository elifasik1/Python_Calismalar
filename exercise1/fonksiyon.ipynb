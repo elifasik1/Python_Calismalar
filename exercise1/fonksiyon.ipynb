{
 "cells": [
  {
   "cell_type": "code",
   "execution_count": 5,
   "id": "2401b279",
   "metadata": {},
   "outputs": [
    {
     "name": "stdout",
     "output_type": "stream",
     "text": [
      "a b\n",
      "a__b\n"
     ]
    }
   ],
   "source": [
    "print(\"a\",\"b\")\n",
    "print(\"a\",\"b\", sep =\"__\")\n"
   ]
  },
  {
   "cell_type": "code",
   "execution_count": 8,
   "id": "8bfdf490",
   "metadata": {},
   "outputs": [
    {
     "name": "stdout",
     "output_type": "stream",
     "text": [
      "8\n"
     ]
    }
   ],
   "source": [
    "def calculate(x):\n",
    "    print(x*2)\n",
    "\n",
    "calculate(4)"
   ]
  },
  {
   "cell_type": "code",
   "execution_count": null,
   "id": "3b0bc537",
   "metadata": {},
   "outputs": [
    {
     "name": "stdout",
     "output_type": "stream",
     "text": [
      "33\n"
     ]
    }
   ],
   "source": [
    "def toplama(arg1,arg2):\n",
    "    print(arg1+arg2)\n",
    "\n",
    "toplama(10,23)\n",
    "    "
   ]
  },
  {
   "cell_type": "code",
   "execution_count": 12,
   "id": "3e1c5ad6",
   "metadata": {},
   "outputs": [
    {
     "name": "stdout",
     "output_type": "stream",
     "text": [
      "miuul\n",
      "Hi\n",
      "hello\n"
     ]
    }
   ],
   "source": [
    "def say_hi(string = \"Merhaba\"):\n",
    "    print(string)\n",
    "    print(\"Hi\")\n",
    "    print(\"hello\")\n",
    "say_hi(\"miuul\")    \n",
    "\n"
   ]
  },
  {
   "cell_type": "code",
   "execution_count": 13,
   "id": "2f69da83",
   "metadata": {},
   "outputs": [
    {
     "name": "stdout",
     "output_type": "stream",
     "text": [
      "40\n"
     ]
    }
   ],
   "source": [
    "def multiplication(a,b):\n",
    "    c = a * b\n",
    "    print(c)\n",
    "multiplication(5,8)    "
   ]
  },
  {
   "cell_type": "code",
   "execution_count": 14,
   "id": "d95f1420",
   "metadata": {},
   "outputs": [
    {
     "name": "stdout",
     "output_type": "stream",
     "text": [
      "[70]\n",
      "[70, 48]\n",
      "[70, 48, 45]\n",
      "[70, 48, 45, 108]\n"
     ]
    }
   ],
   "source": [
    "#girilen değerleri listede saklayan fonk\n",
    "list_store = []\n",
    "def add_element(a,b):\n",
    "        c = a * b\n",
    "        list_store.append(c)\n",
    "        print(list_store)\n",
    "add_element(10,7)\n",
    "add_element(8,6)\n",
    "add_element(5,9)\n",
    "add_element(9,12)\n",
    "\n"
   ]
  },
  {
   "cell_type": "code",
   "execution_count": 15,
   "id": "fb7891c5",
   "metadata": {},
   "outputs": [
    {
     "name": "stdout",
     "output_type": "stream",
     "text": [
      "6.0\n"
     ]
    }
   ],
   "source": [
    "# ön tanımlı argüman\n",
    "def divide(a,b):\n",
    "    print(a/b)\n",
    "divide(12,2)    "
   ]
  }
 ],
 "metadata": {
  "kernelspec": {
   "display_name": "yeni_ortam",
   "language": "python",
   "name": "python3"
  },
  "language_info": {
   "codemirror_mode": {
    "name": "ipython",
    "version": 3
   },
   "file_extension": ".py",
   "mimetype": "text/x-python",
   "name": "python",
   "nbconvert_exporter": "python",
   "pygments_lexer": "ipython3",
   "version": "3.12.9"
  }
 },
 "nbformat": 4,
 "nbformat_minor": 5
}
