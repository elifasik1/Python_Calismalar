{
 "cells": [
  {
   "cell_type": "code",
   "execution_count": 84,
   "id": "55a28311",
   "metadata": {},
   "outputs": [
    {
     "data": {
      "text/plain": [
       "5"
      ]
     },
     "execution_count": 84,
     "metadata": {},
     "output_type": "execute_result"
    }
   ],
   "source": [
    "#Sayılar\n",
    "x= 46\n",
    "type(x) # int\n",
    "x=10.3\n",
    "type(x) #float\n",
    "a=5\n",
    "b=10.6\n",
    "a*3 #15\n",
    "a/7 # 0.7142\n",
    "a*b/10 #5.3\n",
    "a**2 #25\n",
    "#Değişken türü değiştirme\n",
    "int(b)\n",
    "float(a)\n",
    "c= a+b /20\n",
    "int(c)\n",
    "\n"
   ]
  },
  {
   "cell_type": "code",
   "execution_count": 85,
   "id": "1aa5fe5c",
   "metadata": {},
   "outputs": [],
   "source": [
    "#Listeler\n",
    "x=[\"btc\",\"eth\",\"xrp\"]\n",
    "type(x) #list\n",
    "#Değiştirilebilir\n",
    "#Sıralı\n",
    "#Kapsayıcı\n",
    "note= [1,2,3,4,5,6,7,8]\n",
    "type(note)\n",
    "not_nam = [1,2,3,4,5,\"e\",\"a\",[1,5,7,9]]\n",
    "not_nam[2:7]\n",
    "not_nam[2]=25\n",
    "not_nam[0:5]\n",
    "# Liste Metodları\n",
    "dir(not_nam)\n",
    "len(not_nam)\n",
    "note.append(100)\n",
    "\n"
   ]
  },
  {
   "cell_type": "code",
   "execution_count": 86,
   "id": "40646228",
   "metadata": {},
   "outputs": [
    {
     "data": {
      "text/plain": [
       "'Regression'"
      ]
     },
     "execution_count": 86,
     "metadata": {},
     "output_type": "execute_result"
    }
   ],
   "source": [
    "#Sözlük (dictionary)\n",
    "x={\"name\":\"PEter\",\"Age\":36}\n",
    "type(x)#dict\n",
    "dictionary = {\"Reg\" : \"Regression\"}\n",
    "dictionary[\"Reg\"]\n"
   ]
  },
  {
   "cell_type": "code",
   "execution_count": 87,
   "id": "947ef5e7",
   "metadata": {},
   "outputs": [
    {
     "data": {
      "text/plain": [
       "tuple"
      ]
     },
     "execution_count": 87,
     "metadata": {},
     "output_type": "execute_result"
    }
   ],
   "source": [
    "#Tuple\n",
    "x=(\"python\",\"ml\",\"ds\")\n",
    "type(x) \n",
    "#Değştirilemez\n"
   ]
  },
  {
   "cell_type": "code",
   "execution_count": null,
   "id": "52f253fb",
   "metadata": {},
   "outputs": [
    {
     "data": {
      "text/plain": [
       "set"
      ]
     },
     "execution_count": 88,
     "metadata": {},
     "output_type": "execute_result"
    }
   ],
   "source": [
    "#Set\n",
    "x={\"name\",\"Peter\",\"Age\",36}\n",
    "type(x)#set\n"
   ]
  },
  {
   "cell_type": "code",
   "execution_count": 89,
   "id": "0fca9ea2",
   "metadata": {},
   "outputs": [
    {
     "data": {
      "text/plain": [
       "bool"
      ]
     },
     "execution_count": 89,
     "metadata": {},
     "output_type": "execute_result"
    }
   ],
   "source": [
    "True #boolen\n",
    "False\n",
    "type(True)\n",
    "type(3 ==2 )"
   ]
  },
  {
   "cell_type": "code",
   "execution_count": 90,
   "id": "2eed9093",
   "metadata": {},
   "outputs": [
    {
     "name": "stdout",
     "output_type": "stream",
     "text": [
      "Elif\n",
      "Veri Yapıları : hızlı özet,\n",
      "sayılar: int ,float,complex,\n",
      "Karakter Dizileri :str,list,dictionary,\n",
      "Boolen :True False\n",
      "\n"
     ]
    },
    {
     "data": {
      "text/plain": [
       "True"
      ]
     },
     "execution_count": 90,
     "metadata": {},
     "output_type": "execute_result"
    }
   ],
   "source": [
    "#String\n",
    "x=\"Hello world\"\n",
    "type(x) #str\n",
    "print(\"Elif\") #ekrana yazdırma\n",
    "#Çok satırlı karakter dizsi\n",
    "long_stri= \"\"\"Veri Yapıları : hızlı özet,\n",
    "sayılar: int ,float,complex,\n",
    "Karakter Dizileri :str,list,dictionary,\n",
    "Boolen :True False\n",
    "\"\"\"\n",
    "print(long_stri)\n",
    "#Karakter Dizilerinin Elemaanlarına Erişmek\n",
    "x[1]\n",
    "#Karakter Dizilerinde Slice İşlemi\n",
    "x[0:2]\n",
    "#String dizileri içinde karakter sorgulamak\n",
    "long_stri \n",
    "\"Veri\" in long_stri\n",
    "\n"
   ]
  },
  {
   "cell_type": "code",
   "execution_count": 91,
   "id": "a6218b43",
   "metadata": {},
   "outputs": [
    {
     "data": {
      "text/plain": [
       "True"
      ]
     },
     "execution_count": 91,
     "metadata": {},
     "output_type": "execute_result"
    }
   ],
   "source": [
    "#String Metodları\n",
    "dir(str)\n",
    "#len fonksiyondur \n",
    "name=\"miuul\"\n",
    "type(len)\n",
    "len(name)\n",
    "\n",
    "#upper lower : küçük-büyük  metodlarıdır \n",
    "\"miuul\".upper()\n",
    "\"ASDFG\".lower()\n",
    "\n",
    "#split böler \n",
    "\"Hello AI Era\".split()\n",
    "#strip kırpma\n",
    "\"   yhtg   \".strip()\n",
    "#capitalize : ilk harfi büyütür\n",
    "\"foo\".capitalize()\n",
    "\"foo\".startswith(\"f\")"
   ]
  }
 ],
 "metadata": {
  "kernelspec": {
   "display_name": "yeni_ortam",
   "language": "python",
   "name": "python3"
  },
  "language_info": {
   "codemirror_mode": {
    "name": "ipython",
    "version": 3
   },
   "file_extension": ".py",
   "mimetype": "text/x-python",
   "name": "python",
   "nbconvert_exporter": "python",
   "pygments_lexer": "ipython3",
   "version": "3.12.9"
  }
 },
 "nbformat": 4,
 "nbformat_minor": 5
}
